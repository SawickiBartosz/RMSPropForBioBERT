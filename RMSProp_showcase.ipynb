{
 "cells": [
  {
   "cell_type": "code",
   "execution_count": 1,
   "metadata": {
    "collapsed": true
   },
   "outputs": [],
   "source": [
    "import matplotlib.pyplot as plt\n",
    "from sklearn.datasets import make_classification\n",
    "from tensorflow.keras import Sequential\n",
    "from tensorflow.keras import activations\n",
    "from tensorflow.keras.layers import Dense\n",
    "from tensorflow.keras.losses import BinaryCrossentropy\n",
    "from tensorflow.keras.optimizers import Adam\n",
    "\n",
    "from Optimizer.RMSProp import RMSProp"
   ]
  },
  {
   "cell_type": "code",
   "execution_count": 2,
   "outputs": [],
   "source": [
    "X, y = make_classification(n_samples=10000, random_state=123)"
   ],
   "metadata": {
    "collapsed": false
   }
  },
  {
   "cell_type": "code",
   "execution_count": 3,
   "outputs": [
    {
     "name": "stdout",
     "output_type": "stream",
     "text": [
      "WARNING:tensorflow:From E:\\Studies\\DataScience-1sem\\OptimizationInDataAnalysis\\RMSPropForBioBERT\\optimization_venv\\lib\\site-packages\\tensorflow_core\\python\\ops\\resource_variable_ops.py:1630: calling BaseResourceVariable.__init__ (from tensorflow.python.ops.resource_variable_ops) with constraint is deprecated and will be removed in a future version.\n",
      "Instructions for updating:\n",
      "If using Keras pass *_constraint arguments to layers.\n",
      "WARNING:tensorflow:From E:\\Studies\\DataScience-1sem\\OptimizationInDataAnalysis\\RMSPropForBioBERT\\optimization_venv\\lib\\site-packages\\tensorflow_core\\python\\ops\\nn_impl.py:183: where (from tensorflow.python.ops.array_ops) is deprecated and will be removed in a future version.\n",
      "Instructions for updating:\n",
      "Use tf.where in 2.0, which has the same broadcast rule as np.where\n",
      "Model: \"sequential\"\n",
      "_________________________________________________________________\n",
      "Layer (type)                 Output Shape              Param #   \n",
      "=================================================================\n",
      "dense (Dense)                (None, 32)                672       \n",
      "_________________________________________________________________\n",
      "dense_1 (Dense)              (None, 32)                1056      \n",
      "_________________________________________________________________\n",
      "dense_2 (Dense)              (None, 1)                 33        \n",
      "=================================================================\n",
      "Total params: 1,761\n",
      "Trainable params: 1,761\n",
      "Non-trainable params: 0\n",
      "_________________________________________________________________\n"
     ]
    }
   ],
   "source": [
    "model = Sequential()\n",
    "model.add(Dense(32, input_dim=20, activation=activations.relu))\n",
    "model.add(Dense(32, activation=activations.relu))\n",
    "model.add(Dense(1, activation=activations.sigmoid))\n",
    "optimizer = RMSProp()\n",
    "model.compile(optimizer=optimizer, loss=BinaryCrossentropy(), metrics=['accuracy'])\n",
    "model.build(input_shape=(64, 20))\n",
    "model.summary()"
   ],
   "metadata": {
    "collapsed": false
   }
  },
  {
   "cell_type": "code",
   "execution_count": 4,
   "outputs": [
    {
     "name": "stdout",
     "output_type": "stream",
     "text": [
      "Train on 10000 samples\n",
      "Epoch 1/50\n",
      "10000/10000 [==============================] - 0s 32us/sample - loss: 0.6175 - acc: 0.6796\n",
      "Epoch 2/50\n",
      "10000/10000 [==============================] - 0s 19us/sample - loss: 0.5443 - acc: 0.7814\n",
      "Epoch 3/50\n",
      "10000/10000 [==============================] - 0s 24us/sample - loss: 0.4788 - acc: 0.8338\n",
      "Epoch 4/50\n",
      "10000/10000 [==============================] - 0s 22us/sample - loss: 0.4194 - acc: 0.8669\n",
      "Epoch 5/50\n",
      "10000/10000 [==============================] - 0s 16us/sample - loss: 0.3671 - acc: 0.8861\n",
      "Epoch 6/50\n",
      "10000/10000 [==============================] - 0s 14us/sample - loss: 0.3231 - acc: 0.8985\n",
      "Epoch 7/50\n",
      "10000/10000 [==============================] - 0s 16us/sample - loss: 0.2875 - acc: 0.9075\n",
      "Epoch 8/50\n",
      "10000/10000 [==============================] - 0s 14us/sample - loss: 0.2597 - acc: 0.9154\n",
      "Epoch 9/50\n",
      "10000/10000 [==============================] - 0s 16us/sample - loss: 0.2387 - acc: 0.9204\n",
      "Epoch 10/50\n",
      "10000/10000 [==============================] - 0s 16us/sample - loss: 0.2227 - acc: 0.9257\n",
      "Epoch 11/50\n",
      "10000/10000 [==============================] - 0s 16us/sample - loss: 0.2102 - acc: 0.9293\n",
      "Epoch 12/50\n",
      "10000/10000 [==============================] - 0s 17us/sample - loss: 0.2000 - acc: 0.9317\n",
      "Epoch 13/50\n",
      "10000/10000 [==============================] - 0s 16us/sample - loss: 0.1921 - acc: 0.9352\n",
      "Epoch 14/50\n",
      "10000/10000 [==============================] - 0s 14us/sample - loss: 0.1856 - acc: 0.9370\n",
      "Epoch 15/50\n",
      "10000/10000 [==============================] - 0s 16us/sample - loss: 0.1800 - acc: 0.9405\n",
      "Epoch 16/50\n",
      "10000/10000 [==============================] - 0s 16us/sample - loss: 0.1751 - acc: 0.9420\n",
      "Epoch 17/50\n",
      "10000/10000 [==============================] - 0s 16us/sample - loss: 0.1710 - acc: 0.9437\n",
      "Epoch 18/50\n",
      "10000/10000 [==============================] - 0s 23us/sample - loss: 0.1671 - acc: 0.9447\n",
      "Epoch 19/50\n",
      "10000/10000 [==============================] - 0s 23us/sample - loss: 0.1638 - acc: 0.9454\n",
      "Epoch 20/50\n",
      "10000/10000 [==============================] - 0s 22us/sample - loss: 0.1608 - acc: 0.9470\n",
      "Epoch 21/50\n",
      "10000/10000 [==============================] - 0s 22us/sample - loss: 0.1581 - acc: 0.9481\n",
      "Epoch 22/50\n",
      "10000/10000 [==============================] - 0s 20us/sample - loss: 0.1557 - acc: 0.9486\n",
      "Epoch 23/50\n",
      "10000/10000 [==============================] - 0s 22us/sample - loss: 0.1536 - acc: 0.9501\n",
      "Epoch 24/50\n",
      "10000/10000 [==============================] - 0s 20us/sample - loss: 0.1516 - acc: 0.9503\n",
      "Epoch 25/50\n",
      "10000/10000 [==============================] - 0s 25us/sample - loss: 0.1498 - acc: 0.9514\n",
      "Epoch 26/50\n",
      "10000/10000 [==============================] - 0s 25us/sample - loss: 0.1481 - acc: 0.9516\n",
      "Epoch 27/50\n",
      "10000/10000 [==============================] - 0s 23us/sample - loss: 0.1465 - acc: 0.9529\n",
      "Epoch 28/50\n",
      "10000/10000 [==============================] - 0s 22us/sample - loss: 0.1450 - acc: 0.9529\n",
      "Epoch 29/50\n",
      "10000/10000 [==============================] - 0s 21us/sample - loss: 0.1438 - acc: 0.9543\n",
      "Epoch 30/50\n",
      "10000/10000 [==============================] - 0s 22us/sample - loss: 0.1426 - acc: 0.9541\n",
      "Epoch 31/50\n",
      "10000/10000 [==============================] - 0s 22us/sample - loss: 0.1415 - acc: 0.9552\n",
      "Epoch 32/50\n",
      "10000/10000 [==============================] - 0s 26us/sample - loss: 0.1404 - acc: 0.9551\n",
      "Epoch 33/50\n",
      "10000/10000 [==============================] - 0s 28us/sample - loss: 0.1394 - acc: 0.9558\n",
      "Epoch 34/50\n",
      "10000/10000 [==============================] - 0s 26us/sample - loss: 0.1385 - acc: 0.9558\n",
      "Epoch 35/50\n",
      "10000/10000 [==============================] - 0s 23us/sample - loss: 0.1376 - acc: 0.9561\n",
      "Epoch 36/50\n",
      "10000/10000 [==============================] - 0s 21us/sample - loss: 0.1368 - acc: 0.9565\n",
      "Epoch 37/50\n",
      "10000/10000 [==============================] - 0s 22us/sample - loss: 0.1359 - acc: 0.9568\n",
      "Epoch 38/50\n",
      "10000/10000 [==============================] - 0s 21us/sample - loss: 0.1352 - acc: 0.9572\n",
      "Epoch 39/50\n",
      "10000/10000 [==============================] - 0s 20us/sample - loss: 0.1345 - acc: 0.9574\n",
      "Epoch 40/50\n",
      "10000/10000 [==============================] - 0s 22us/sample - loss: 0.1338 - acc: 0.9581\n",
      "Epoch 41/50\n",
      "10000/10000 [==============================] - 0s 19us/sample - loss: 0.1331 - acc: 0.9587\n",
      "Epoch 42/50\n",
      "10000/10000 [==============================] - 0s 19us/sample - loss: 0.1325 - acc: 0.9589\n",
      "Epoch 43/50\n",
      "10000/10000 [==============================] - 0s 14us/sample - loss: 0.1319 - acc: 0.9588\n",
      "Epoch 44/50\n",
      "10000/10000 [==============================] - 0s 15us/sample - loss: 0.1313 - acc: 0.9594\n",
      "Epoch 45/50\n",
      "10000/10000 [==============================] - 0s 16us/sample - loss: 0.1308 - acc: 0.9593\n",
      "Epoch 46/50\n",
      "10000/10000 [==============================] - 0s 14us/sample - loss: 0.1303 - acc: 0.9597\n",
      "Epoch 47/50\n",
      "10000/10000 [==============================] - 0s 17us/sample - loss: 0.1298 - acc: 0.9594\n",
      "Epoch 48/50\n",
      "10000/10000 [==============================] - 0s 14us/sample - loss: 0.1294 - acc: 0.9595\n",
      "Epoch 49/50\n",
      "10000/10000 [==============================] - 0s 14us/sample - loss: 0.1288 - acc: 0.9596\n",
      "Epoch 50/50\n",
      "10000/10000 [==============================] - 0s 14us/sample - loss: 0.1284 - acc: 0.9606\n"
     ]
    }
   ],
   "source": [
    "rms_prop_history = model.fit(X, y, epochs=50, batch_size=64)"
   ],
   "metadata": {
    "collapsed": false
   }
  },
  {
   "cell_type": "code",
   "execution_count": 5,
   "outputs": [
    {
     "name": "stdout",
     "output_type": "stream",
     "text": [
      "Train on 10000 samples\n",
      "Epoch 1/50\n",
      "10000/10000 [==============================] - 0s 23us/sample - loss: 0.6886 - acc: 0.5359\n",
      "Epoch 2/50\n",
      "10000/10000 [==============================] - 0s 16us/sample - loss: 0.6349 - acc: 0.6513\n",
      "Epoch 3/50\n",
      "10000/10000 [==============================] - 0s 17us/sample - loss: 0.5843 - acc: 0.7385\n",
      "Epoch 4/50\n",
      "10000/10000 [==============================] - 0s 16us/sample - loss: 0.5304 - acc: 0.7957\n",
      "Epoch 5/50\n",
      "10000/10000 [==============================] - 0s 17us/sample - loss: 0.4732 - acc: 0.8345\n",
      "Epoch 6/50\n",
      "10000/10000 [==============================] - 0s 20us/sample - loss: 0.4160 - acc: 0.8623\n",
      "Epoch 7/50\n",
      "10000/10000 [==============================] - 0s 16us/sample - loss: 0.3636 - acc: 0.8837\n",
      "Epoch 8/50\n",
      "10000/10000 [==============================] - 0s 15us/sample - loss: 0.3196 - acc: 0.9005\n",
      "Epoch 9/50\n",
      "10000/10000 [==============================] - 0s 19us/sample - loss: 0.2846 - acc: 0.9104\n",
      "Epoch 10/50\n",
      "10000/10000 [==============================] - 0s 17us/sample - loss: 0.2570 - acc: 0.9189\n",
      "Epoch 11/50\n",
      "10000/10000 [==============================] - 0s 16us/sample - loss: 0.2357 - acc: 0.9244\n",
      "Epoch 12/50\n",
      "10000/10000 [==============================] - 0s 16us/sample - loss: 0.2190 - acc: 0.9290\n",
      "Epoch 13/50\n",
      "10000/10000 [==============================] - 0s 16us/sample - loss: 0.2056 - acc: 0.9337\n",
      "Epoch 14/50\n",
      "10000/10000 [==============================] - 0s 16us/sample - loss: 0.1952 - acc: 0.9374\n",
      "Epoch 15/50\n",
      "10000/10000 [==============================] - 0s 17us/sample - loss: 0.1865 - acc: 0.9411\n",
      "Epoch 16/50\n",
      "10000/10000 [==============================] - 0s 16us/sample - loss: 0.1794 - acc: 0.9437\n",
      "Epoch 17/50\n",
      "10000/10000 [==============================] - 0s 16us/sample - loss: 0.1733 - acc: 0.9462\n",
      "Epoch 18/50\n",
      "10000/10000 [==============================] - 0s 17us/sample - loss: 0.1684 - acc: 0.9470\n",
      "Epoch 19/50\n",
      "10000/10000 [==============================] - 0s 20us/sample - loss: 0.1639 - acc: 0.9490\n",
      "Epoch 20/50\n",
      "10000/10000 [==============================] - 0s 25us/sample - loss: 0.1602 - acc: 0.9497\n",
      "Epoch 21/50\n",
      "10000/10000 [==============================] - 0s 24us/sample - loss: 0.1570 - acc: 0.9505\n",
      "Epoch 22/50\n",
      "10000/10000 [==============================] - 0s 26us/sample - loss: 0.1541 - acc: 0.9509\n",
      "Epoch 23/50\n",
      "10000/10000 [==============================] - 0s 23us/sample - loss: 0.1517 - acc: 0.9510\n",
      "Epoch 24/50\n",
      "10000/10000 [==============================] - 0s 23us/sample - loss: 0.1495 - acc: 0.9523\n",
      "Epoch 25/50\n",
      "10000/10000 [==============================] - 0s 26us/sample - loss: 0.1475 - acc: 0.9524\n",
      "Epoch 26/50\n",
      "10000/10000 [==============================] - 0s 23us/sample - loss: 0.1458 - acc: 0.9534\n",
      "Epoch 27/50\n",
      "10000/10000 [==============================] - 0s 23us/sample - loss: 0.1444 - acc: 0.9543\n",
      "Epoch 28/50\n",
      "10000/10000 [==============================] - 0s 23us/sample - loss: 0.1429 - acc: 0.9548\n",
      "Epoch 29/50\n",
      "10000/10000 [==============================] - 0s 23us/sample - loss: 0.1417 - acc: 0.9549\n",
      "Epoch 30/50\n",
      "10000/10000 [==============================] - 0s 22us/sample - loss: 0.1405 - acc: 0.9552\n",
      "Epoch 31/50\n",
      "10000/10000 [==============================] - 0s 22us/sample - loss: 0.1395 - acc: 0.9560\n",
      "Epoch 32/50\n",
      "10000/10000 [==============================] - 0s 24us/sample - loss: 0.1386 - acc: 0.9567\n",
      "Epoch 33/50\n",
      "10000/10000 [==============================] - 0s 23us/sample - loss: 0.1376 - acc: 0.9571\n",
      "Epoch 34/50\n",
      "10000/10000 [==============================] - 0s 23us/sample - loss: 0.1367 - acc: 0.9573\n",
      "Epoch 35/50\n",
      "10000/10000 [==============================] - 0s 23us/sample - loss: 0.1360 - acc: 0.9570\n",
      "Epoch 36/50\n",
      "10000/10000 [==============================] - 0s 22us/sample - loss: 0.1353 - acc: 0.9577\n",
      "Epoch 37/50\n",
      "10000/10000 [==============================] - 0s 20us/sample - loss: 0.1345 - acc: 0.9583\n",
      "Epoch 38/50\n",
      "10000/10000 [==============================] - 0s 22us/sample - loss: 0.1339 - acc: 0.9587\n",
      "Epoch 39/50\n",
      "10000/10000 [==============================] - 0s 22us/sample - loss: 0.1333 - acc: 0.9589\n",
      "Epoch 40/50\n",
      "10000/10000 [==============================] - 0s 21us/sample - loss: 0.1327 - acc: 0.9586\n",
      "Epoch 41/50\n",
      "10000/10000 [==============================] - 0s 23us/sample - loss: 0.1322 - acc: 0.9592\n",
      "Epoch 42/50\n",
      "10000/10000 [==============================] - 0s 22us/sample - loss: 0.1315 - acc: 0.9598\n",
      "Epoch 43/50\n",
      "10000/10000 [==============================] - 0s 15us/sample - loss: 0.1310 - acc: 0.9593\n",
      "Epoch 44/50\n",
      "10000/10000 [==============================] - 0s 16us/sample - loss: 0.1304 - acc: 0.9598\n",
      "Epoch 45/50\n",
      "10000/10000 [==============================] - 0s 16us/sample - loss: 0.1299 - acc: 0.9597\n",
      "Epoch 46/50\n",
      "10000/10000 [==============================] - 0s 16us/sample - loss: 0.1295 - acc: 0.9600\n",
      "Epoch 47/50\n",
      "10000/10000 [==============================] - 0s 16us/sample - loss: 0.1291 - acc: 0.9601\n",
      "Epoch 48/50\n",
      "10000/10000 [==============================] - 0s 16us/sample - loss: 0.1285 - acc: 0.9599\n",
      "Epoch 49/50\n",
      "10000/10000 [==============================] - 0s 14us/sample - loss: 0.1281 - acc: 0.9604\n",
      "Epoch 50/50\n",
      "10000/10000 [==============================] - 0s 16us/sample - loss: 0.1278 - acc: 0.9608\n"
     ]
    }
   ],
   "source": [
    "model = Sequential()\n",
    "model.add(Dense(32, input_dim=20, activation=activations.relu))\n",
    "model.add(Dense(32, activation=activations.relu))\n",
    "model.add(Dense(1, activation=activations.sigmoid))\n",
    "adam = Adam(learning_rate=0.0001)\n",
    "model.compile(optimizer=adam, loss=BinaryCrossentropy(), metrics=[\"accuracy\"])\n",
    "adam_history = model.fit(X, y, epochs=50, batch_size=64)"
   ],
   "metadata": {
    "collapsed": false
   }
  },
  {
   "cell_type": "code",
   "execution_count": 6,
   "outputs": [
    {
     "data": {
      "text/plain": "<Figure size 640x480 with 1 Axes>",
      "image/png": "[encoded data removed]"
     },
     "metadata": {},
     "output_type": "display_data"
    }
   ],
   "source": [
    "plt.plot(adam_history.epoch,adam_history.history['loss'], label='Adam')\n",
    "plt.plot(rms_prop_history.epoch, rms_prop_history.history['loss'], label=\"RMSProp\")\n",
    "plt.legend()\n",
    "plt.xlabel(\"epoch\")\n",
    "plt.ylabel(\"loss\")\n",
    "plt.show()"
   ],
   "metadata": {
    "collapsed": false
   }
  }
 ],
 "metadata": {
  "kernelspec": {
   "display_name": "Python 3",
   "language": "python",
   "name": "python3"
  },
  "language_info": {
   "codemirror_mode": {
    "name": "ipython",
    "version": 2
   },
   "file_extension": ".py",
   "mimetype": "text/x-python",
   "name": "python",
   "nbconvert_exporter": "python",
   "pygments_lexer": "ipython2",
   "version": "2.7.6"
  }
 },
 "nbformat": 4,
 "nbformat_minor": 0
}
